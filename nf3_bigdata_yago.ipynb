{
  "nbformat": 4,
  "nbformat_minor": 0,
  "metadata": {
    "colab": {
      "provenance": [],
      "authorship_tag": "ABX9TyNyOsQEwELagHIa//vtgDD0",
      "include_colab_link": true
    },
    "kernelspec": {
      "name": "python3",
      "display_name": "Python 3"
    },
    "language_info": {
      "name": "python"
    }
  },
  "cells": [
    {
      "cell_type": "markdown",
      "metadata": {
        "id": "view-in-github",
        "colab_type": "text"
      },
      "source": [
        "<a href=\"https://colab.research.google.com/github/tyngu123/NF3-BIG-DATA-Yago/blob/main/nf3_bigdata_yago.ipynb\" target=\"_parent\"><img src=\"https://colab.research.google.com/assets/colab-badge.svg\" alt=\"Open In Colab\"/></a>"
      ]
    },
    {
      "cell_type": "code",
      "execution_count": null,
      "metadata": {
        "id": "1tm8POH40zpl"
      },
      "outputs": [],
      "source": [
        "# Questão 1, letra A\n",
        "\n",
        "import pandas as pd\n",
        "\n",
        "df = pd.read_csv('https://raw.githubusercontent.com/tyngu123/NF3-BIG-DATA-Yago/main/world_alcohol.csv', sep=',')\n",
        "\n",
        "grupos_bebidas = df.groupby('Beverage Types')\n",
        "\n",
        "for tipo_bebida, grupo in grupos_bebidas:\n",
        "    print(tipo_bebida)\n",
        "    print(grupo)\n",
        "    print('\\n')\n"
      ]
    },
    {
      "cell_type": "code",
      "source": [
        "# Questão 1, letra B\n",
        "\n",
        "import pandas as pd\n",
        "\n",
        "df = pd.read_csv('https://raw.githubusercontent.com/tyngu123/NF3-BIG-DATA-Yago/main/world_alcohol.csv', sep=',')\n",
        "\n",
        "grupos = df.groupby(['WHO region', 'Year'])\n",
        "\n",
        "for grupo, dados in grupos:\n",
        "    print(grupo)\n",
        "    print(dados)\n",
        "    print('\\n')\n"
      ],
      "metadata": {
        "id": "DtnVt2J8MI6w"
      },
      "execution_count": null,
      "outputs": []
    },
    {
      "cell_type": "code",
      "source": [
        "# Questão 1, letra C\n",
        "\n",
        "import pandas as pd\n",
        "\n",
        "df = pd.read_csv('https://raw.githubusercontent.com/tyngu123/NF3-BIG-DATA-Yago/main/world_alcohol.csv', sep=',')\n",
        "\n",
        "contagem_regioes = df['WHO region'].value_counts()\n",
        "print(\"Contagem de ocorrência de Regiões:\")\n",
        "print(contagem_regioes)\n",
        "print('\\n')\n",
        "\n",
        "contagem_paises = df['Country'].value_counts()\n",
        "print(\"Contagem de ocorrência de Países:\")\n",
        "print(contagem_paises)\n",
        "print('\\n')\n",
        "\n",
        "soma_valores_bebida = df.groupby('Beverage Types')['Display Value'].sum()\n",
        "print(\"Soma da coluna de valores por Bebida:\")\n",
        "print(soma_valores_bebida)\n"
      ],
      "metadata": {
        "id": "OHqX0OdsMSvn"
      },
      "execution_count": null,
      "outputs": []
    },
    {
      "cell_type": "code",
      "source": [
        "# Questão 1, letra D\n",
        "\n",
        "import pandas as pd\n",
        "\n",
        "df = pd.read_csv('https://raw.githubusercontent.com/tyngu123/NF3-BIG-DATA-Yago/main/world_alcohol.csv', sep=',')\n",
        "\n",
        "media = df['Display Value'].mean()\n",
        "moda = df['Display Value'].mode().values[0]\n",
        "mediana = df['Display Value'].median()\n",
        "estatisticas_descritivas = df['Display Value'].describe()\n",
        "\n",
        "print(\"Análises estatísticas da coluna de valores:\")\n",
        "print(\"Média:\", media)\n",
        "print(\"Moda:\", moda)\n",
        "print(\"Mediana:\", mediana)\n",
        "print('\\n')\n",
        "print(\"Estatísticas Descritivas:\")\n",
        "print(estatisticas_descritivas)\n",
        "print('\\n')\n",
        "\n",
        "df.groupby('Beverage Types')['Display Value'].mean().plot(kind='bar',ylabel='Valor',figsize=(10, 6), rot=0)\n",
        "\n"
      ],
      "metadata": {
        "id": "0tWYEJZ_MnGe"
      },
      "execution_count": null,
      "outputs": []
    },
    {
      "cell_type": "code",
      "source": [
        "# Questão 1, letra E, I\n",
        "\n",
        "import pandas as pd\n",
        "\n",
        "df = pd.read_csv('https://raw.githubusercontent.com/tyngu123/NF3-BIG-DATA-Yago/main/world_alcohol.csv', sep=',')\n",
        "\n",
        "dados_1985 = df[df['Year'] == 1985]\n",
        "\n",
        "coluna_bebidas_1985 = dados_1985['Beverage Types']\n",
        "print('Bebidas do ano de 1985\\n')\n",
        "\n",
        "print(coluna_bebidas_1985)\n"
      ],
      "metadata": {
        "id": "iW1ziNt1NSXO"
      },
      "execution_count": null,
      "outputs": []
    },
    {
      "cell_type": "code",
      "source": [
        "# Questão 1, letra E, II\n",
        "\n",
        "import pandas as pd\n",
        "\n",
        "df = pd.read_csv('https://raw.githubusercontent.com/tyngu123/NF3-BIG-DATA-Yago/main/world_alcohol.csv', sep=',')\n",
        "\n",
        "regioes_acima_de_4 = df[df['Display Value'] > 4.0]\n",
        "\n",
        "coluna_regiao_acima_de_4 = regioes_acima_de_4['WHO region']\n",
        "print('Coluna de Região com valores acima de 4\\n')\n",
        "print(coluna_regiao_acima_de_4)\n"
      ],
      "metadata": {
        "id": "fE6JBgV3Nf1E"
      },
      "execution_count": null,
      "outputs": []
    },
    {
      "cell_type": "code",
      "source": [
        "# Questão 2, letra A\n",
        "\n",
        "import pandas as pd\n",
        "\n",
        "df = pd.read_csv('https://raw.githubusercontent.com/tyngu123/NF3-BIG-DATA-Yago/main/cursos-prouni.csv')\n",
        "\n",
        "df['nota_integral_ampla'] = df['nota_integral_ampla'].fillna(0.0)\n",
        "df['nota_integral_cotas'] = df['nota_integral_cotas'].fillna(0.0)\n",
        "df['nota_parcial_ampla'] = df['nota_parcial_ampla'].fillna(0.0)\n",
        "df['nota_parcial_cotas'] = df['nota_parcial_cotas'].fillna(0.0)\n",
        "\n",
        "df.to_csv('cursos-prouni-substituido.csv', index=False)"
      ],
      "metadata": {
        "id": "jXJrkmuX01Aq"
      },
      "execution_count": 103,
      "outputs": []
    },
    {
      "cell_type": "code",
      "source": [
        "# Questão 2, letra B\n",
        "\n",
        "import pandas as pd\n",
        "\n",
        "df = pd.read_csv('https://raw.githubusercontent.com/tyngu123/NF3-BIG-DATA-Yago/main/cursos-prouni.csv')\n",
        "# Professora, se precisar usar o arquivo gerado pela resposta anterior com os NaN substituidos por 0:\n",
        "# df = pd.read_csv('cursos-prouni-substituido.csv')\n",
        "\n",
        "grupo_por_grau = df.groupby('grau')\n",
        "\n",
        "for grau, dados in grupo_por_grau:\n",
        "    print(\"Grau:\", grau)\n",
        "    print(dados)\n",
        "    print()"
      ],
      "metadata": {
        "id": "bFc743zySNy-"
      },
      "execution_count": null,
      "outputs": []
    },
    {
      "cell_type": "code",
      "source": [
        "# Questão 2, letra C\n",
        "\n",
        "import pandas as pd\n",
        "\n",
        "df = pd.read_csv('https://raw.githubusercontent.com/tyngu123/NF3-BIG-DATA-Yago/main/cursos-prouni.csv')\n",
        "\n",
        "cursos_selecionados = df[df['curso_busca'].isin(['Matemática', 'Medicina', 'Pedagogia'])]\n",
        "\n",
        "grupo_por_curso = cursos_selecionados.groupby('curso_busca')\n",
        "\n",
        "for curso, dados in grupo_por_curso:\n",
        "    print(\"Curso:\", curso)\n",
        "    print(dados)\n",
        "    print()"
      ],
      "metadata": {
        "id": "mCZ67Z-ETeir"
      },
      "execution_count": null,
      "outputs": []
    },
    {
      "cell_type": "code",
      "source": [
        "# Questão 2, letra D\n",
        "\n",
        "import pandas as pd\n",
        "\n",
        "df = pd.read_csv('https://raw.githubusercontent.com/tyngu123/NF3-BIG-DATA-Yago/main/cursos-prouni.csv')\n",
        "\n",
        "media_notas_por_estado = df.groupby('uf_busca')['nota_integral_ampla', 'nota_integral_cotas', 'nota_parcial_ampla', 'nota_parcial_cotas'].mean()\n",
        "\n",
        "print('Média de Notas de corte por estado: \\n')\n",
        "print(media_notas_por_estado)"
      ],
      "metadata": {
        "id": "bDDX7Zw5Uj6L"
      },
      "execution_count": null,
      "outputs": []
    },
    {
      "cell_type": "code",
      "source": [
        "# Questão 2, letra E\n",
        "\n",
        "import pandas as pd\n",
        "\n",
        "df = pd.read_csv('https://raw.githubusercontent.com/tyngu123/NF3-BIG-DATA-Yago/main/cursos-prouni.csv')\n",
        "\n",
        "cursos_tecnologicos = df[df['grau'].str.contains('Tecnológico', case=False)]\n",
        "\n",
        "grupo_por_curso_tecnologico = cursos_tecnologicos.groupby('grau')\n",
        "\n",
        "for curso, dados in grupo_por_curso_tecnologico:\n",
        "    print(\"Curso Tecnológico:\", curso)\n",
        "    print(dados)\n",
        "    print()"
      ],
      "metadata": {
        "id": "XTWxjBqXXKdN"
      },
      "execution_count": null,
      "outputs": []
    },
    {
      "cell_type": "code",
      "source": [
        "# Questão 2, letra F\n",
        "\n",
        "import pandas as pd\n",
        "\n",
        "df = pd.read_csv('https://raw.githubusercontent.com/tyngu123/NF3-BIG-DATA-Yago/main/cursos-prouni.csv')\n",
        "\n",
        "df = df.drop('cidade_filtro', axis=1)\n",
        "\n",
        "print(df)"
      ],
      "metadata": {
        "id": "Xz5k57fSZy4p"
      },
      "execution_count": null,
      "outputs": []
    },
    {
      "cell_type": "code",
      "source": [
        "# Questão 2, letra G\n",
        "\n",
        "import pandas as pd\n",
        "\n",
        "df = pd.read_csv('https://raw.githubusercontent.com/tyngu123/NF3-BIG-DATA-Yago/main/cursos-prouni.csv')\n",
        "\n",
        "cursos_medicina = df[df['curso_busca'] == 'Medicina']\n",
        "\n",
        "media_mensalidades_medicina = cursos_medicina['mensalidade'].mean()\n",
        "\n",
        "print(\"Média das mensalidades dos cursos de Medicina:\", media_mensalidades_medicina)"
      ],
      "metadata": {
        "colab": {
          "base_uri": "https://localhost:8080/"
        },
        "id": "3XPJ-_X0a6YX",
        "outputId": "2bd8e8a5-c0c9-4cc4-9b7c-1227c42adf70"
      },
      "execution_count": 93,
      "outputs": [
        {
          "output_type": "stream",
          "name": "stdout",
          "text": [
            "Média das mensalidades dos cursos de Medicina: 7168.341532258064\n"
          ]
        }
      ]
    },
    {
      "cell_type": "code",
      "source": [
        "# Questão 2, letra H\n",
        "\n",
        "import pandas as pd\n",
        "\n",
        "df = pd.read_csv('https://raw.githubusercontent.com/tyngu123/NF3-BIG-DATA-Yago/main/cursos-prouni.csv')\n",
        "\n",
        "media_notas_integral = df[['nota_integral_ampla', 'nota_integral_cotas']].mean().mean()\n",
        "\n",
        "print(\"Média das notas de corte dos cursos de tempo integral:\", media_notas_integral)"
      ],
      "metadata": {
        "colab": {
          "base_uri": "https://localhost:8080/"
        },
        "id": "hmh59v0Ab0fG",
        "outputId": "758abbd1-b65d-4fb8-ff8d-b062bea580f2"
      },
      "execution_count": 94,
      "outputs": [
        {
          "output_type": "stream",
          "name": "stdout",
          "text": [
            "Média das notas de corte dos cursos de tempo integral: 570.2267190017062\n"
          ]
        }
      ]
    },
    {
      "cell_type": "code",
      "source": [
        "# Questão 2, letra I\n",
        "\n",
        "import pandas as pd\n",
        "\n",
        "df = pd.read_csv('https://raw.githubusercontent.com/tyngu123/NF3-BIG-DATA-Yago/main/cursos-prouni.csv')\n",
        "\n",
        "cursos_bacharelado = df[df['grau'] == 'Bacharelado']\n",
        "\n",
        "notas_corte = cursos_bacharelado['nota_integral_ampla']\n",
        "\n",
        "estatisticas_descritivas = notas_corte.describe()\n",
        "\n",
        "print(estatisticas_descritivas)"
      ],
      "metadata": {
        "id": "xK2M4MYDciJi"
      },
      "execution_count": null,
      "outputs": []
    },
    {
      "cell_type": "code",
      "source": [
        "# Questão 2, letra J\n",
        "\n",
        "import pandas as pd\n",
        "\n",
        "df = pd.read_csv('https://raw.githubusercontent.com/tyngu123/NF3-BIG-DATA-Yago/main/cursos-prouni.csv')\n",
        "\n",
        "dados_filtrados = df[['grau', 'nota_integral_cotas']]\n",
        "\n",
        "media_notas_corte = dados_filtrados.groupby('grau')['nota_integral_cotas'].mean()\n",
        "\n",
        "media_notas_corte.plot(kind='bar', figsize=(10, 6), rot=0, ylabel='Média das Notas Integral de Cotas')\n",
        "\n"
      ],
      "metadata": {
        "id": "A0n6_5GOdpZD"
      },
      "execution_count": null,
      "outputs": []
    }
  ]
}