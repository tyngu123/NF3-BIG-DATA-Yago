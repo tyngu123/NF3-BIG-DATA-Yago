{
  "nbformat": 4,
  "nbformat_minor": 0,
  "metadata": {
    "colab": {
      "provenance": [],
      "authorship_tag": "ABX9TyMe7gbSYoThcGjvrwqTUL+G",
      "include_colab_link": true
    },
    "kernelspec": {
      "name": "python3",
      "display_name": "Python 3"
    },
    "language_info": {
      "name": "python"
    }
  },
  "cells": [
    {
      "cell_type": "markdown",
      "metadata": {
        "id": "view-in-github",
        "colab_type": "text"
      },
      "source": [
        "<a href=\"https://colab.research.google.com/github/tyngu123/NF3-BIG-DATA-Yago/blob/main/nf3_bigdata_yago.ipynb\" target=\"_parent\"><img src=\"https://colab.research.google.com/assets/colab-badge.svg\" alt=\"Open In Colab\"/></a>"
      ]
    },
    {
      "cell_type": "code",
      "execution_count": null,
      "metadata": {
        "id": "1tm8POH40zpl"
      },
      "outputs": [],
      "source": [
        "# Questão 1, letra A\n",
        "\n",
        "import pandas as pd\n",
        "\n",
        "df = pd.read_csv('world_alcohol.csv', sep=',')\n",
        "\n",
        "grupos_bebidas = df.groupby('Beverage Types')\n",
        "\n",
        "for tipo_bebida, grupo in grupos_bebidas:\n",
        "    print(tipo_bebida)\n",
        "    print(grupo)\n",
        "    print('\\n')\n"
      ]
    },
    {
      "cell_type": "code",
      "source": [
        "# Questão 1, letra B\n",
        "\n",
        "import pandas as pd\n",
        "\n",
        "df = pd.read_csv('world_alcohol.csv', sep=',')\n",
        "\n",
        "grupos = df.groupby(['WHO region', 'Year'])\n",
        "\n",
        "for grupo, dados in grupos:\n",
        "    print(grupo)\n",
        "    print(dados)\n",
        "    print('\\n')\n"
      ],
      "metadata": {
        "id": "DtnVt2J8MI6w"
      },
      "execution_count": null,
      "outputs": []
    },
    {
      "cell_type": "code",
      "source": [
        "# Questão 1, letra C\n",
        "\n",
        "import pandas as pd\n",
        "\n",
        "df = pd.read_csv('world_alcohol.csv', sep=',')\n",
        "\n",
        "contagem_regioes = df['WHO region'].value_counts()\n",
        "print(\"Contagem de ocorrência de Regiões:\")\n",
        "print(contagem_regioes)\n",
        "print('\\n')\n",
        "\n",
        "contagem_paises = df['Country'].value_counts()\n",
        "print(\"Contagem de ocorrência de Países:\")\n",
        "print(contagem_paises)\n",
        "print('\\n')\n",
        "\n",
        "soma_valores_bebida = df.groupby('Beverage Types')['Display Value'].sum()\n",
        "print(\"Soma da coluna de valores por Bebida:\")\n",
        "print(soma_valores_bebida)\n"
      ],
      "metadata": {
        "id": "OHqX0OdsMSvn"
      },
      "execution_count": null,
      "outputs": []
    },
    {
      "cell_type": "code",
      "source": [
        "# Questão 1, letra D\n",
        "\n",
        "import pandas as pd\n",
        "\n",
        "df = pd.read_csv('world_alcohol.csv', sep=',')\n",
        "\n",
        "media = df['Display Value'].mean()\n",
        "moda = df['Display Value'].mode().values[0]\n",
        "mediana = df['Display Value'].median()\n",
        "estatisticas_descritivas = df['Display Value'].describe()\n",
        "\n",
        "print(\"Análises estatísticas da coluna de valores:\")\n",
        "print(\"Média:\", media)\n",
        "print(\"Moda:\", moda)\n",
        "print(\"Mediana:\", mediana)\n",
        "print('\\n')\n",
        "print(\"Estatísticas Descritivas:\")\n",
        "print(estatisticas_descritivas)\n",
        "print('\\n')\n",
        "\n",
        "df.groupby('Beverage Types')['Display Value'].mean().plot(kind='bar',ylabel='Valor',figsize=(10, 6), rot=0)\n",
        "\n"
      ],
      "metadata": {
        "colab": {
          "base_uri": "https://localhost:8080/",
          "height": 872
        },
        "id": "0tWYEJZ_MnGe",
        "outputId": "578ff63c-9251-4cf4-cfdc-0ad9fab9958b"
      },
      "execution_count": 110,
      "outputs": [
        {
          "output_type": "stream",
          "name": "stdout",
          "text": [
            "Análises estatísticas da coluna de valores:\n",
            "Média: 1.1030526315789473\n",
            "Moda: 0.0\n",
            "Mediana: 0.19\n",
            "\n",
            "\n",
            "Estatísticas Descritivas:\n",
            "count    95.000000\n",
            "mean      1.103053\n",
            "std       1.642623\n",
            "min       0.000000\n",
            "25%       0.000000\n",
            "50%       0.190000\n",
            "75%       1.820000\n",
            "max       7.380000\n",
            "Name: Display Value, dtype: float64\n",
            "\n",
            "\n"
          ]
        },
        {
          "output_type": "execute_result",
          "data": {
            "text/plain": [
              "<Axes: xlabel='Beverage Types', ylabel='Valor'>"
            ]
          },
          "metadata": {},
          "execution_count": 110
        },
        {
          "output_type": "display_data",
          "data": {
            "text/plain": [
              "<Figure size 1000x600 with 1 Axes>"
            ],
            "image/png": "[encoded data removed]"
          },
          "metadata": {}
        }
      ]
    },
    {
      "cell_type": "code",
      "source": [
        "# Questão 1, letra E, I\n",
        "\n",
        "import pandas as pd\n",
        "\n",
        "df = pd.read_csv('world_alcohol.csv', sep=',')\n",
        "\n",
        "dados_1985 = df[df['Year'] == 1985]\n",
        "\n",
        "coluna_bebidas_1985 = dados_1985['Beverage Types']\n",
        "print('Bebidas do ano de 1985\\n')\n",
        "\n",
        "print(coluna_bebidas_1985)\n"
      ],
      "metadata": {
        "colab": {
          "base_uri": "https://localhost:8080/"
        },
        "id": "iW1ziNt1NSXO",
        "outputId": "d7eea8eb-9037-43fb-c166-94fd87f9a369"
      },
      "execution_count": 105,
      "outputs": [
        {
          "output_type": "stream",
          "name": "stdout",
          "text": [
            "Bebidas do ano de 1985\n",
            "\n",
            "2        Wine\n",
            "7     Spirits\n",
            "12       Beer\n",
            "14    Spirits\n",
            "24      Other\n",
            "26       Wine\n",
            "33      Other\n",
            "35    Spirits\n",
            "44      Other\n",
            "50      Other\n",
            "63      Other\n",
            "71      Other\n",
            "76       Beer\n",
            "77    Spirits\n",
            "80      Other\n",
            "81       Wine\n",
            "85       Wine\n",
            "94    Spirits\n",
            "96       Wine\n",
            "99       Wine\n",
            "Name: Beverage Types, dtype: object\n"
          ]
        }
      ]
    },
    {
      "cell_type": "code",
      "source": [
        "# Questão 1, letra E, II\n",
        "\n",
        "import pandas as pd\n",
        "\n",
        "df = pd.read_csv('world_alcohol.csv', sep=',')\n",
        "\n",
        "regioes_acima_de_4 = df[df['Display Value'] > 4.0]\n",
        "\n",
        "coluna_regiao_acima_de_4 = regioes_acima_de_4['WHO region']\n",
        "print('Coluna de Região com valores acima de 4\\n')\n",
        "print(coluna_regiao_acima_de_4)\n"
      ],
      "metadata": {
        "colab": {
          "base_uri": "https://localhost:8080/"
        },
        "id": "fE6JBgV3Nf1E",
        "outputId": "cfa2547e-b743-4a12-fd05-c891704d6da1"
      },
      "execution_count": 104,
      "outputs": [
        {
          "output_type": "stream",
          "name": "stdout",
          "text": [
            "Coluna de Região com valores acima de 4\n",
            "\n",
            "3     Americas\n",
            "9       Africa\n",
            "21    Americas\n",
            "30      Africa\n",
            "41      Europe\n",
            "57      Europe\n",
            "91      Europe\n",
            "96      Europe\n",
            "Name: WHO region, dtype: object\n"
          ]
        }
      ]
    },
    {
      "cell_type": "code",
      "source": [
        "# Questão 2, letra A\n",
        "\n",
        "import pandas as pd\n",
        "\n",
        "df = pd.read_csv('https://raw.githubusercontent.com/tyngu123/NF3-BIG-DATA-Yago/main/cursos-prouni.csv')\n",
        "\n",
        "df['nota_integral_ampla'] = df['nota_integral_ampla'].fillna(0.0)\n",
        "df['nota_integral_cotas'] = df['nota_integral_cotas'].fillna(0.0)\n",
        "df['nota_parcial_ampla'] = df['nota_parcial_ampla'].fillna(0.0)\n",
        "df['nota_parcial_cotas'] = df['nota_parcial_cotas'].fillna(0.0)\n",
        "\n",
        "df.to_csv('cursos-prouni-substituido.csv', index=False)"
      ],
      "metadata": {
        "id": "jXJrkmuX01Aq"
      },
      "execution_count": 103,
      "outputs": []
    },
    {
      "cell_type": "code",
      "source": [
        "# Questão 2, letra B\n",
        "\n",
        "import pandas as pd\n",
        "\n",
        "df = pd.read_csv('https://raw.githubusercontent.com/tyngu123/NF3-BIG-DATA-Yago/main/cursos-prouni.csv')\n",
        "# Professora, se precisar usar o arquivo gerado pela resposta anterior com os NaN substituidos por 0:\n",
        "# df = pd.read_csv('cursos-prouni-substituido.csv')\n",
        "\n",
        "grupo_por_grau = df.groupby('grau')\n",
        "\n",
        "for grau, dados in grupo_por_grau:\n",
        "    print(\"Grau:\", grau)\n",
        "    print(dados)\n",
        "    print()"
      ],
      "metadata": {
        "colab": {
          "base_uri": "https://localhost:8080/"
        },
        "id": "bFc743zySNy-",
        "outputId": "b6c3419e-61bd-4d25-d73e-86854a1add8f"
      },
      "execution_count": 121,
      "outputs": [
        {
          "output_type": "stream",
          "name": "stdout",
          "text": [
            "Grau: Bacharelado\n",
            "              grau              turno  mensalidade  bolsa_integral_cotas  \\\n",
            "0      Bacharelado           Integral      9999.99                  15.0   \n",
            "1      Bacharelado            Noturno      9836.40                   1.0   \n",
            "2      Bacharelado           Integral      9715.61                   2.0   \n",
            "3      Bacharelado            Noturno      9689.34                   3.0   \n",
            "4      Bacharelado           Integral      9674.34                   4.0   \n",
            "...            ...                ...          ...                   ...   \n",
            "41098  Bacharelado  Curso a Distância       169.00                   1.0   \n",
            "41100  Bacharelado  Curso a Distância       169.00                   0.0   \n",
            "41101  Bacharelado  Curso a Distância       169.00                   0.0   \n",
            "41103  Bacharelado  Curso a Distância       169.00                   0.0   \n",
            "41445  Bacharelado  Curso a Distância       139.00                   1.0   \n",
            "\n",
            "       bolsa_integral_ampla  bolsa_parcial_cotas  bolsa_parcial_ampla  \\\n",
            "0                      14.0                  NaN                  NaN   \n",
            "1                       NaN                  NaN                  NaN   \n",
            "2                       5.0                  6.0                 10.0   \n",
            "3                       2.0                  NaN                  NaN   \n",
            "4                       1.0                  5.0                  2.0   \n",
            "...                     ...                  ...                  ...   \n",
            "41098                   1.0                  NaN                  NaN   \n",
            "41100                   1.0                  NaN                  NaN   \n",
            "41101                   1.0                  NaN                  NaN   \n",
            "41103                   1.0                  NaN                  NaN   \n",
            "41445                   NaN                  NaN                  NaN   \n",
            "\n",
            "              curso_id         curso_busca           cidade_busca uf_busca  \\\n",
            "0         706710394154            Medicina           Campo Grande       MS   \n",
            "1      104191210567043          Enfermagem                Crateus       CE   \n",
            "2        1002328574024            Medicina              Sao Paulo       SP   \n",
            "3      104191212798093          Psicologia                Crateus       CE   \n",
            "4       65899611932754            Medicina             Rio Branco       AC   \n",
            "...                ...                 ...                    ...      ...   \n",
            "41098  107308850013295      Serviço Social          Guaratingueta       SP   \n",
            "41100  107308850013275  Ciências Contábeis          Guaratingueta       SP   \n",
            "41101  107313050013345       Administração  Sao Jose do Rio Preto       SP   \n",
            "41103  107314150013345       Administração                Taubate       SP   \n",
            "41445      96781210935      Serviço Social                Vitoria       ES   \n",
            "\n",
            "          cidade_filtro                                  universidade_nome  \\\n",
            "0      NTAwMjAwNDAyNzA0                  Universidade Anhanguera - UNIDERP   \n",
            "1      MjMwNDAxODA0MTAz                  Faculdade Princesa do Oeste - FPO   \n",
            "2      MzUxNTA2MTUwMzA4          Universidade Cidade de São Paulo - UNICID   \n",
            "3      MjMwNDAxODA0MTAz                  Faculdade Princesa do Oeste - FPO   \n",
            "4      MTIwMjAwNDAwNDAx                Faculdade Barão do Rio Branco - FAB   \n",
            "...                 ...                                                ...   \n",
            "41098  MzUxMzA1MTE4NDA0  Centro Universitário Planalto do Distrito Fede...   \n",
            "41100  MzUxMzA1MTE4NDA0  Centro Universitário Planalto do Distrito Fede...   \n",
            "41101  MzUwMTAwNDQ5ODA1  Centro Universitário Planalto do Distrito Fede...   \n",
            "41103  MzUxMzA1MDU0MTAy  Centro Universitário Planalto do Distrito Fede...   \n",
            "41445  MzIwMzAwOTA1MzA5                       Universidade Paulista - UNIP   \n",
            "\n",
            "                                             campus_nome  campus_id  \\\n",
            "0                     CAMPO GRANDE - SEDE - Miguel Couto     706710   \n",
            "1                             UNIDADE SEDE - São Vicente    1041912   \n",
            "2      UNIVERSIDADE CIDADE DE SÃO PAULO - UNICID - SE...    1002328   \n",
            "3                             UNIDADE SEDE - São Vicente    1041912   \n",
            "4      CAMPUS  - RIO BRANCO - JARDIM EUROPA II - Jard...     658996   \n",
            "...                                                  ...        ...   \n",
            "41098                 GUARATINGUETÁ/SP - Campo do Galvão    1073088   \n",
            "41100                 GUARATINGUETÁ/SP - Campo do Galvão    1073088   \n",
            "41101          SÃO JOSÉ DO RIO PRETO/SP - Vila Sinibaldi    1073130   \n",
            "41103                     TAUBATÉ/SP - Jardim das Nações    1073141   \n",
            "41445                         VITORIA I - Barro Vermelho       9678   \n",
            "\n",
            "                     nome  nota_integral_ampla  nota_integral_cotas  \\\n",
            "0                Medicina               740.22               726.46   \n",
            "1              Enfermagem               663.36                  NaN   \n",
            "2                Medicina               739.62               738.08   \n",
            "3              Psicologia               651.00               652.22   \n",
            "4                Medicina               758.32               723.94   \n",
            "...                   ...                  ...                  ...   \n",
            "41098      Serviço Social               566.96               501.22   \n",
            "41100  Ciências Contábeis               546.36                  NaN   \n",
            "41101       Administração               530.12                  NaN   \n",
            "41103       Administração               552.00                  NaN   \n",
            "41445      Serviço Social               548.26                  NaN   \n",
            "\n",
            "       nota_parcial_ampla  nota_parcial_cotas  \n",
            "0                     NaN                 NaN  \n",
            "1                     NaN                 NaN  \n",
            "2                  738.96              718.64  \n",
            "3                     NaN                 NaN  \n",
            "4                  734.92              711.26  \n",
            "...                   ...                 ...  \n",
            "41098                 NaN                 NaN  \n",
            "41100                 NaN                 NaN  \n",
            "41101                 NaN                 NaN  \n",
            "41103                 NaN                 NaN  \n",
            "41445                 NaN                 NaN  \n",
            "\n",
            "[19165 rows x 20 columns]\n",
            "\n",
            "Grau: Licenciatura\n",
            "               grau              turno  mensalidade  bolsa_integral_cotas  \\\n",
            "14     Licenciatura           Matutino      8466.72                   1.0   \n",
            "153    Licenciatura            Noturno      4200.00                   0.0   \n",
            "186    Licenciatura           Integral      3833.00                   2.0   \n",
            "224    Licenciatura           Integral      3347.00                   1.0   \n",
            "238    Licenciatura           Integral      3282.00                   1.0   \n",
            "...             ...                ...          ...                   ...   \n",
            "41430  Licenciatura  Curso a Distância       149.00                   0.0   \n",
            "41432  Licenciatura  Curso a Distância       149.00                   0.0   \n",
            "41436  Licenciatura  Curso a Distância       149.00                   0.0   \n",
            "41438  Licenciatura  Curso a Distância       149.00                   0.0   \n",
            "41442  Licenciatura  Curso a Distância       149.00                   1.0   \n",
            "\n",
            "       bolsa_integral_ampla  bolsa_parcial_cotas  bolsa_parcial_ampla  \\\n",
            "14                      2.0                  NaN                  NaN   \n",
            "153                     1.0                  1.0                 21.0   \n",
            "186                     1.0                  NaN                  NaN   \n",
            "224                     NaN                  NaN                  NaN   \n",
            "238                     4.0                  NaN                  NaN   \n",
            "...                     ...                  ...                  ...   \n",
            "41430                   1.0                  NaN                  NaN   \n",
            "41432                   1.0                  NaN                  NaN   \n",
            "41436                   1.0                  NaN                  NaN   \n",
            "41438                   1.0                  NaN                  NaN   \n",
            "41442                   NaN                  NaN                  NaN   \n",
            "\n",
            "              curso_id          curso_busca          cidade_busca uf_busca  \\\n",
            "14        689693216461      Educação Física              Curitiba       PR   \n",
            "153     65885813655473      Educação Física              Curitiba       PR   \n",
            "186     65795413591794  Ciências Biológicas        Rio de Janeiro       RJ   \n",
            "224       657954108714            Geografia        Rio de Janeiro       RJ   \n",
            "238       657954108614            Pedagogia        Rio de Janeiro       RJ   \n",
            "...                ...                  ...                   ...      ...   \n",
            "41430     965212865605           Sociologia           Sao VIcente       SP   \n",
            "41432  200473512865605           Sociologia              Sorocaba       SP   \n",
            "41436     965712865605           Sociologia                Suzano       SP   \n",
            "41438     965912865605           Sociologia       Taboao da Serra       SP   \n",
            "41442     994312865605           Sociologia  Paraiso do Tocantins       TO   \n",
            "\n",
            "          cidade_filtro                                  universidade_nome  \\\n",
            "14     NDExMDAzNzA2OTAy                          Faculdade Dom Bosco - FDB   \n",
            "153    NDExMDAzNzA2OTAy  Faculdade Anchieta de Ensino Superior do Paran...   \n",
            "186    MzMwNjAxODA0NTU3  Pontifícia Universidade Católica do Rio de Jan...   \n",
            "224    MzMwNjAxODA0NTU3  Pontifícia Universidade Católica do Rio de Jan...   \n",
            "238    MzMwNjAxODA0NTU3  Pontifícia Universidade Católica do Rio de Jan...   \n",
            "...                 ...                                                ...   \n",
            "41430  MzUxNTA2MzUxMDA5                       Universidade Paulista - UNIP   \n",
            "41432  MzUxMjA0NjUyMjA1                       Universidade Paulista - UNIP   \n",
            "41436  MzUxNTA2MjUyNTAy                       Universidade Paulista - UNIP   \n",
            "41438  MzUxNTA2MDUyODA5                       Universidade Paulista - UNIP   \n",
            "41442  MTcwMTAwNDE2MTA5                       Universidade Paulista - UNIP   \n",
            "\n",
            "                                  campus_nome  campus_id                 nome  \\\n",
            "14                    UNIDADE MERCÊS - Mercês     689693      Educação Física   \n",
            "153          UNIDADE SEDE - Cidade Industrial     658858      Educação Física   \n",
            "186                      CAMPUS GÁVEA - Gávea     657954  Ciências Biológicas   \n",
            "224                      CAMPUS GÁVEA - Gávea     657954            Geografia   \n",
            "238                      CAMPUS GÁVEA - Gávea     657954            Pedagogia   \n",
            "...                                       ...        ...                  ...   \n",
            "41430                    SÃO VICENTE - Centro       9652           Sociologia   \n",
            "41432                  SOROCABA II - Campolim    2004735           Sociologia   \n",
            "41436                     SUZANO - Pq. Suzano       9657           Sociologia   \n",
            "41438  TABOÃO DA SERRA - Jardim Santa Cecília       9659           Sociologia   \n",
            "41442           PARAISO DO TOCANTINS - Centro       9943           Sociologia   \n",
            "\n",
            "       nota_integral_ampla  nota_integral_cotas  nota_parcial_ampla  \\\n",
            "14                  579.20               570.40                 NaN   \n",
            "153                 612.68                  NaN               450.0   \n",
            "186                 701.62               673.06                 NaN   \n",
            "224                 629.24                  NaN                 NaN   \n",
            "238                 633.50               624.46                 NaN   \n",
            "...                    ...                  ...                 ...   \n",
            "41430               568.58                  NaN                 NaN   \n",
            "41432               559.12                  NaN                 NaN   \n",
            "41436               480.76                  NaN                 NaN   \n",
            "41438               594.30                  NaN                 NaN   \n",
            "41442               502.36                  NaN                 NaN   \n",
            "\n",
            "       nota_parcial_cotas  \n",
            "14                    NaN  \n",
            "153                574.76  \n",
            "186                   NaN  \n",
            "224                   NaN  \n",
            "238                   NaN  \n",
            "...                   ...  \n",
            "41430                 NaN  \n",
            "41432                 NaN  \n",
            "41436                 NaN  \n",
            "41438                 NaN  \n",
            "41442                 NaN  \n",
            "\n",
            "[8802 rows x 20 columns]\n",
            "\n",
            "Grau: Tecnológico\n",
            "              grau              turno  mensalidade  bolsa_integral_cotas  \\\n",
            "151    Tecnológico            Noturno      4279.28                   0.0   \n",
            "154    Tecnológico            Noturno      4138.34                   1.0   \n",
            "214    Tecnológico            Noturno      3420.00                   1.0   \n",
            "216    Tecnológico            Noturno      3408.10                   1.0   \n",
            "230    Tecnológico         Vespertino      3311.38                   0.0   \n",
            "...            ...                ...          ...                   ...   \n",
            "41440  Tecnológico  Curso a Distância       149.00                   0.0   \n",
            "41441  Tecnológico  Curso a Distância       149.00                   0.0   \n",
            "41443  Tecnológico  Curso a Distância       144.00                   1.0   \n",
            "41444  Tecnológico         Vespertino       139.00                   1.0   \n",
            "41446  Tecnológico  Curso a Distância       139.00                   3.0   \n",
            "\n",
            "       bolsa_integral_ampla  bolsa_parcial_cotas  bolsa_parcial_ampla  \\\n",
            "151                     1.0                  NaN                  NaN   \n",
            "154                    29.0                  NaN                  NaN   \n",
            "214                     1.0                  NaN                 20.0   \n",
            "216                     1.0                  NaN                  NaN   \n",
            "230                     2.0                  NaN                  NaN   \n",
            "...                     ...                  ...                  ...   \n",
            "41440                   1.0                  NaN                  NaN   \n",
            "41441                   1.0                  NaN                  NaN   \n",
            "41443                   2.0                  2.0                  5.0   \n",
            "41444                   NaN                  NaN                  NaN   \n",
            "41446                   1.0                  NaN                  NaN   \n",
            "\n",
            "              curso_id                          curso_busca  cidade_busca  \\\n",
            "151    100431611227263   Gestão da Tecnologia da Informação      Curitiba   \n",
            "154    104511012052913  Pilotagem Profissional de Aeronaves      Curitiba   \n",
            "214     65885812601853                  Sistemas Biomédicos      Curitiba   \n",
            "216    100431611589563           Gestão de Recursos Humanos      Curitiba   \n",
            "230      1006454732352                 Produção Audiovisual  Porto Alegre   \n",
            "...                ...                                  ...           ...   \n",
            "41440     966013826055                     Gestão Comercial         Tatui   \n",
            "41441     967113826055                     Gestão Comercial       Taubate   \n",
            "41443   65868712869275                            Marketing   Sao VIcente   \n",
            "41444    1056445674232           Gestão de Recursos Humanos      Brasilia   \n",
            "41446  200467412868575                     Gestão Ambiental      Santarem   \n",
            "\n",
            "      uf_busca     cidade_filtro  \\\n",
            "151         PR  NDExMDAzNzA2OTAy   \n",
            "154         PR  NDExMDAzNzA2OTAy   \n",
            "214         PR  NDExMDAzNzA2OTAy   \n",
            "216         PR  NDExMDAzNzA2OTAy   \n",
            "230         RS  NDMwNTAyNjE0OTAy   \n",
            "...        ...               ...   \n",
            "41440       SP  MzUxMTA0MzU0MDAz   \n",
            "41441       SP  MzUxMzA1MDU0MTAy   \n",
            "41443       SP  MzUxNTA2MzUxMDA5   \n",
            "41444       DF  NTMwMTAwMTAwMTA4   \n",
            "41446       PA  MTUwMTAwMjA2ODA3   \n",
            "\n",
            "                                       universidade_nome  \\\n",
            "151                            Faculdade Dom Bosco - FDB   \n",
            "154                           Universidade Positivo - UP   \n",
            "214    Faculdade Anchieta de Ensino Superior do Paran...   \n",
            "216                            Faculdade Dom Bosco - FDB   \n",
            "230    Pontifícia Universidade Católica do Rio Grande...   \n",
            "...                                                  ...   \n",
            "41440                       Universidade Paulista - UNIP   \n",
            "41441                       Universidade Paulista - UNIP   \n",
            "41443                     Faculdade de São VIcente - FSV   \n",
            "41444  Centro Universitário Planalto do Distrito Fede...   \n",
            "41446                       Universidade Paulista - UNIP   \n",
            "\n",
            "                                             campus_nome  campus_id  \\\n",
            "151                                    MARUMBY - Lindóia    1004316   \n",
            "154    UNIVERSIDADE POSITIVO - UNIDADE ÂNGELO SAMPAIO...    1045110   \n",
            "214                     UNIDADE SEDE - Cidade Industrial     658858   \n",
            "216                                    MARUMBY - Lindóia    1004316   \n",
            "230                    CENTRAL - PORTO ALEGRE - Partenon    1006454   \n",
            "...                                                  ...        ...   \n",
            "41440                                     TATUÍ - Centro       9660   \n",
            "41441                         TAUBATÉ I - Campos Elíseos       9671   \n",
            "41443                              UNIDADE SEDE - Centro     658687   \n",
            "41444  DF03 - UNIDADE BRASIL CENTRAL - Taguatinga Nor...    1056445   \n",
            "41446                                  SANTARÉM - Fátima    2004674   \n",
            "\n",
            "                                      nome  nota_integral_ampla  \\\n",
            "151     Gestão da Tecnologia da Informação               580.68   \n",
            "154    Pilotagem Profissional de Aeronaves               624.78   \n",
            "214                    Sistemas Biomédicos               599.74   \n",
            "216             Gestão de Recursos Humanos               527.28   \n",
            "230                   Produção Audiovisual               688.46   \n",
            "...                                    ...                  ...   \n",
            "41440                     Gestão Comercial               450.00   \n",
            "41441                     Gestão Comercial               504.18   \n",
            "41443                            Marketing               533.34   \n",
            "41444           Gestão de Recursos Humanos               580.76   \n",
            "41446                     Gestão Ambiental               605.32   \n",
            "\n",
            "       nota_integral_cotas  nota_parcial_ampla  nota_parcial_cotas  \n",
            "151                    NaN                 NaN                 NaN  \n",
            "154                 626.74                 NaN                 NaN  \n",
            "214                 541.46               450.0                 NaN  \n",
            "216                 453.42                 NaN                 NaN  \n",
            "230                    NaN                 NaN                 NaN  \n",
            "...                    ...                 ...                 ...  \n",
            "41440                  NaN                 NaN                 NaN  \n",
            "41441                  NaN                 NaN                 NaN  \n",
            "41443               450.00               450.0               450.0  \n",
            "41444                  NaN                 NaN                 NaN  \n",
            "41446               573.70                 NaN                 NaN  \n",
            "\n",
            "[13480 rows x 20 columns]\n",
            "\n"
          ]
        }
      ]
    },
    {
      "cell_type": "code",
      "source": [
        "# Questão 2, letra C\n",
        "\n",
        "import pandas as pd\n",
        "\n",
        "df = pd.read_csv('https://raw.githubusercontent.com/tyngu123/NF3-BIG-DATA-Yago/main/cursos-prouni.csv')\n",
        "\n",
        "cursos_selecionados = df[df['curso_busca'].isin(['Matemática', 'Medicina', 'Pedagogia'])]\n",
        "\n",
        "grupo_por_curso = cursos_selecionados.groupby('curso_busca')\n",
        "\n",
        "for curso, dados in grupo_por_curso:\n",
        "    print(\"Curso:\", curso)\n",
        "    print(dados)\n",
        "    print()"
      ],
      "metadata": {
        "id": "mCZ67Z-ETeir"
      },
      "execution_count": null,
      "outputs": []
    },
    {
      "cell_type": "code",
      "source": [
        "# Questão 2, letra D\n",
        "\n",
        "import pandas as pd\n",
        "\n",
        "df = pd.read_csv('https://raw.githubusercontent.com/tyngu123/NF3-BIG-DATA-Yago/main/cursos-prouni.csv')\n",
        "\n",
        "media_notas_por_estado = df.groupby('uf_busca')['nota_integral_ampla', 'nota_integral_cotas', 'nota_parcial_ampla', 'nota_parcial_cotas'].mean()\n",
        "\n",
        "print('Média de Notas de corte por estado: \\n')\n",
        "print(media_notas_por_estado)"
      ],
      "metadata": {
        "id": "bDDX7Zw5Uj6L"
      },
      "execution_count": null,
      "outputs": []
    },
    {
      "cell_type": "code",
      "source": [
        "# Questão 2, letra E\n",
        "\n",
        "import pandas as pd\n",
        "\n",
        "df = pd.read_csv('https://raw.githubusercontent.com/tyngu123/NF3-BIG-DATA-Yago/main/cursos-prouni.csv')\n",
        "\n",
        "cursos_tecnologicos = df[df['grau'].str.contains('Tecnológico', case=False)]\n",
        "\n",
        "grupo_por_curso_tecnologico = cursos_tecnologicos.groupby('grau')\n",
        "\n",
        "for curso, dados in grupo_por_curso_tecnologico:\n",
        "    print(\"Curso Tecnológico:\", curso)\n",
        "    print(dados)\n",
        "    print()"
      ],
      "metadata": {
        "id": "XTWxjBqXXKdN"
      },
      "execution_count": null,
      "outputs": []
    },
    {
      "cell_type": "code",
      "source": [
        "# Questão 2, letra F\n",
        "\n",
        "import pandas as pd\n",
        "\n",
        "df = pd.read_csv('https://raw.githubusercontent.com/tyngu123/NF3-BIG-DATA-Yago/main/cursos-prouni.csv')\n",
        "\n",
        "df = df.drop('cidade_filtro', axis=1)\n",
        "\n",
        "print(df)"
      ],
      "metadata": {
        "id": "Xz5k57fSZy4p"
      },
      "execution_count": null,
      "outputs": []
    },
    {
      "cell_type": "code",
      "source": [
        "# Questão 2, letra G\n",
        "\n",
        "import pandas as pd\n",
        "\n",
        "df = pd.read_csv('https://raw.githubusercontent.com/tyngu123/NF3-BIG-DATA-Yago/main/cursos-prouni.csv')\n",
        "\n",
        "cursos_medicina = df[df['curso_busca'] == 'Medicina']\n",
        "\n",
        "media_mensalidades_medicina = cursos_medicina['mensalidade'].mean()\n",
        "\n",
        "print(\"Média das mensalidades dos cursos de Medicina:\", media_mensalidades_medicina)"
      ],
      "metadata": {
        "colab": {
          "base_uri": "https://localhost:8080/"
        },
        "id": "3XPJ-_X0a6YX",
        "outputId": "2bd8e8a5-c0c9-4cc4-9b7c-1227c42adf70"
      },
      "execution_count": 93,
      "outputs": [
        {
          "output_type": "stream",
          "name": "stdout",
          "text": [
            "Média das mensalidades dos cursos de Medicina: 7168.341532258064\n"
          ]
        }
      ]
    },
    {
      "cell_type": "code",
      "source": [
        "# Questão 2, letra H\n",
        "\n",
        "import pandas as pd\n",
        "\n",
        "df = pd.read_csv('https://raw.githubusercontent.com/tyngu123/NF3-BIG-DATA-Yago/main/cursos-prouni.csv')\n",
        "\n",
        "media_notas_integral = df[['nota_integral_ampla', 'nota_integral_cotas']].mean().mean()\n",
        "\n",
        "print(\"Média das notas de corte dos cursos de tempo integral:\", media_notas_integral)"
      ],
      "metadata": {
        "colab": {
          "base_uri": "https://localhost:8080/"
        },
        "id": "hmh59v0Ab0fG",
        "outputId": "758abbd1-b65d-4fb8-ff8d-b062bea580f2"
      },
      "execution_count": 94,
      "outputs": [
        {
          "output_type": "stream",
          "name": "stdout",
          "text": [
            "Média das notas de corte dos cursos de tempo integral: 570.2267190017062\n"
          ]
        }
      ]
    },
    {
      "cell_type": "code",
      "source": [
        "# Questão 2, letra I\n",
        "\n",
        "import pandas as pd\n",
        "\n",
        "df = pd.read_csv('https://raw.githubusercontent.com/tyngu123/NF3-BIG-DATA-Yago/main/cursos-prouni.csv')\n",
        "\n",
        "cursos_bacharelado = df[df['grau'] == 'Bacharelado']\n",
        "\n",
        "notas_corte = cursos_bacharelado['nota_integral_ampla']\n",
        "\n",
        "estatisticas_descritivas = notas_corte.describe()\n",
        "\n",
        "print(estatisticas_descritivas)"
      ],
      "metadata": {
        "id": "xK2M4MYDciJi"
      },
      "execution_count": null,
      "outputs": []
    },
    {
      "cell_type": "code",
      "source": [
        "# Questão 2, letra J\n",
        "\n",
        "import pandas as pd\n",
        "\n",
        "df = pd.read_csv('https://raw.githubusercontent.com/tyngu123/NF3-BIG-DATA-Yago/main/cursos-prouni.csv')\n",
        "\n",
        "# Filtrar os dados pela coluna de grau dos cursos e notas de corte de cotas\n",
        "dados_filtrados = df[['grau', 'nota_integral_cotas']]\n",
        "\n",
        "# Calcular a média das notas de corte de cotas por grau dos cursos\n",
        "media_notas_corte = dados_filtrados.groupby('grau')['nota_integral_cotas'].mean()\n",
        "\n",
        "# Criar o gráfico comparativo utilizando a função plot() do pandas\n",
        "media_notas_corte.plot(kind='bar', figsize=(10, 6), rot=0, ylabel='Média das Notas Integral de Cotas')\n",
        "\n"
      ],
      "metadata": {
        "colab": {
          "base_uri": "https://localhost:8080/",
          "height": 559
        },
        "id": "A0n6_5GOdpZD",
        "outputId": "1f569251-448a-47a8-d0af-df73159684ba"
      },
      "execution_count": 120,
      "outputs": [
        {
          "output_type": "execute_result",
          "data": {
            "text/plain": [
              "<Axes: xlabel='grau', ylabel='Média das Notas Integral de Cotas'>"
            ]
          },
          "metadata": {},
          "execution_count": 120
        },
        {
          "output_type": "display_data",
          "data": {
            "text/plain": [
              "<Figure size 1000x600 with 1 Axes>"
            ],
            "image/png": "[encoded data removed]"
          },
          "metadata": {}
        }
      ]
    }
  ]
}